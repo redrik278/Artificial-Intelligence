{
  "nbformat": 4,
  "nbformat_minor": 0,
  "metadata": {
    "colab": {
      "name": "lab week 4.ipynb",
      "provenance": [],
      "collapsed_sections": []
    },
    "kernelspec": {
      "name": "python3",
      "display_name": "Python 3"
    },
    "language_info": {
      "name": "python"
    }
  },
  "cells": [
    {
      "cell_type": "markdown",
      "source": [
        "#BFS algorithm"
      ],
      "metadata": {
        "id": "zSuMRm2E_t4_"
      }
    },
    {
      "cell_type": "code",
      "execution_count": 1,
      "metadata": {
        "id": "HfaNJwcf8sv-"
      },
      "outputs": [],
      "source": [
        "graph = {\n",
        "    '5' : ['3','7'],\n",
        "    '3' : ['2','4'],\n",
        "    '7' : ['8'],\n",
        "    '2' : [],\n",
        "    '4' : ['8'],\n",
        "    '8' :[]\n",
        "}\n",
        "\n",
        "visited = []\n",
        "queue =[]\n",
        "\n",
        "def bfs(visited, graph, node):\n",
        "  visited.append(node)\n",
        "\n",
        "  queue.append(node)\n",
        "\n",
        "  while queue:\n",
        "    m = queue.pop(0)\n",
        "    print(m, end=\" \")\n",
        "\n",
        "    for neighbour in graph[m]:\n",
        "      if neighbour not in visited:\n",
        "        visited.append(neighbour)\n",
        "        queue.append(neighbour)"
      ]
    },
    {
      "cell_type": "code",
      "source": [
        "bfs(visited, graph, '5')"
      ],
      "metadata": {
        "colab": {
          "base_uri": "https://localhost:8080/"
        },
        "id": "l-gW6_Qe-1AX",
        "outputId": "d4958dd5-f03b-4488-f8c6-fe3c2cbc4492"
      },
      "execution_count": null,
      "outputs": [
        {
          "output_type": "stream",
          "name": "stdout",
          "text": [
            "5 3 7 2 4 8 "
          ]
        }
      ]
    },
    {
      "cell_type": "markdown",
      "source": [
        "#DFS Algorithm"
      ],
      "metadata": {
        "id": "iG6RGIE3_x_e"
      }
    },
    {
      "cell_type": "code",
      "source": [
        "graph = {\n",
        "    '5' : ['3','7'],\n",
        "    '3' : ['2','4'],\n",
        "    '7' : ['8'],\n",
        "    '2' : [],\n",
        "    '4' : ['8'],\n",
        "    '8' :[]\n",
        "}\n",
        "\n",
        "visited = set()\n",
        "\n",
        "def dfs(visited, graph, node):\n",
        "  if node not in visited:\n",
        "    print(node)\n",
        "    visited.add(node)\n",
        "\n",
        "    for neighbour in graph[node]:\n",
        "      dfs(visited, graph, neighbour)"
      ],
      "metadata": {
        "id": "vkLsQr1r_0Lm"
      },
      "execution_count": 2,
      "outputs": []
    },
    {
      "cell_type": "code",
      "source": [
        "dfs(visited, graph, '5')"
      ],
      "metadata": {
        "colab": {
          "base_uri": "https://localhost:8080/"
        },
        "id": "ilMMdGBsAW6-",
        "outputId": "6dc511b1-9116-4782-d912-2b1dd0baf6a6"
      },
      "execution_count": null,
      "outputs": [
        {
          "output_type": "stream",
          "name": "stdout",
          "text": [
            "5\n",
            "3\n",
            "2\n",
            "4\n",
            "8\n",
            "7\n"
          ]
        }
      ]
    },
    {
      "cell_type": "markdown",
      "source": [
        "#Uniform Cost Search"
      ],
      "metadata": {
        "id": "qP0VlT0eAs1G"
      }
    },
    {
      "cell_type": "code",
      "source": [
        "class Node(object):\n",
        "    \"\"\" This class represents a node in a graph \"\"\"\n",
        "    def __init__(self,label: str=None):\n",
        "      \"\"\"\n",
        "      Initialize a new node\n",
        "      Args:\n",
        "        label: the string identifier for the node\n",
        "      \"\"\"\n",
        "      self.label = label\n",
        "      self.children = []\n",
        "\n",
        "    def __lt__(self,other):\n",
        "      \"\"\"\n",
        "      Perform the less than operation (self<other)\n",
        "      Args:\n",
        "        other: the other node to compare to\n",
        "      \"\"\"\n",
        "      return (self.label < other.label)\n",
        "\n",
        "    def __gt__(self,other):\n",
        "      \"\"\"\n",
        "      Perform the greater than operation (self<other)\n",
        "      Args:\n",
        "        other: the other node to compare to\n",
        "      \"\"\"\n",
        "      return (self.label > other.label)\n",
        "\n",
        "\n",
        "    def __repr__(self):\n",
        "      \"\"\"\n",
        "      Return a string form of this node\n",
        "      \"\"\"\n",
        "      return '{}->{}'.format(self.label,self.children)\n",
        "\n",
        "    def add_child(self, node, cost=1):\n",
        "      \"\"\"\n",
        "        Add a child node to this node\n",
        "        Args:\n",
        "        node: the node to add to the children\n",
        "        cost: the cost of the edge (default 1)\n",
        "      \"\"\" \n",
        "      edge = Edge(self, node, cost)\n",
        "      self.children.append(edge)\n",
        "\n"
      ],
      "metadata": {
        "id": "wTZgWWlmAyTd"
      },
      "execution_count": 3,
      "outputs": []
    },
    {
      "cell_type": "code",
      "source": [
        "class Edge(object):\n",
        "  \"\"\"\n",
        "  This class represents an edge in a graph\n",
        "  \"\"\"\n",
        "  def __init__(self,source:Node,destination: Node, cost: int=1):\n",
        "    \"\"\"\n",
        "    initialize a new edge\n",
        "    Args:\n",
        "      source: the source of the edge\n",
        "      destination: the destination of the edge\n",
        "      cost: the cost of the edge (default 1)\n",
        "    \"\"\"\n",
        "    self.source = source\n",
        "    self.destination = destination\n",
        "    self.cost = cost\n",
        "\n",
        "  def __repr__(self):\n",
        "      \"\"\"\n",
        "      Return a string form of this edge\n",
        "      \"\"\"\n",
        "      return '{}->{}'.format(self.cost,self.destination.label) \n",
        "      "
      ],
      "metadata": {
        "id": "VWSl2mk2DznE"
      },
      "execution_count": 4,
      "outputs": []
    },
    {
      "cell_type": "code",
      "source": [
        "# create all the nodes\n",
        "\n",
        "S = Node('S')\n",
        "A = Node('A')\n",
        "B = Node('B')\n",
        "C = Node('C')\n",
        "D = Node('D')\n",
        "G = Node('G')\n",
        "\n",
        "# create all the edges\n",
        "\n",
        "S.add_child(A, 1)\n",
        "S.add_child(G,12)\n",
        "A.add_child(B,3)\n",
        "A.add_child(C,1)\n",
        "\n",
        "\n",
        "B.add_child(D,3)\n",
        "C.add_child(D,1)\n",
        "C.add_child(G,2)\n",
        "D.add_child(G,3)\n",
        "\n",
        "_ = [print(node) for node in [S,A,B,C,D,G]]\n"
      ],
      "metadata": {
        "colab": {
          "base_uri": "https://localhost:8080/"
        },
        "id": "Sh0qTgsOFALc",
        "outputId": "71d62a72-0914-45e1-ab0d-f793d2a5bccb"
      },
      "execution_count": 5,
      "outputs": [
        {
          "output_type": "stream",
          "name": "stdout",
          "text": [
            "S->[1->A, 12->G]\n",
            "A->[3->B, 1->C]\n",
            "B->[3->D]\n",
            "C->[1->D, 2->G]\n",
            "D->[3->G]\n",
            "G->[]\n"
          ]
        }
      ]
    },
    {
      "cell_type": "code",
      "source": [
        "from queue import PriorityQueue\n",
        "\n",
        "def uniform_cost_search(root, goal):\n",
        "  \"\"\"\n",
        "  Return the uniform cost search path from root to goal\n",
        "  Args:\n",
        "    root: the starting node form the search\n",
        "    goal: the goal node from the search\n",
        "  Returns:\n",
        "    a list with the path from root to goal\n",
        "  \"\"\"\n",
        "\n",
        "  #create a priority  queue of paths\n",
        "  queue = PriorityQueue()\n",
        "  queue.put((0,[root]))\n",
        "  while not queue.empty():\n",
        "    # get the highest priority item\n",
        "    pair = queue.get()\n",
        "    current = pair[1][-1]\n",
        "    #if its the goal, return\n",
        "    if current.label == goal:\n",
        "      return pair[1]\n",
        "    for edge in current.children:\n",
        "      # create a new path with the node from the edge\n",
        "      new_path = list(pair[1])\n",
        "      new_path.append(edge.destination)\n",
        "      #append the new path to the queue with the edges priority\n",
        "      queue.put((pair[0]+edge.cost, new_path))"
      ],
      "metadata": {
        "id": "a5U8Cru5GTLr"
      },
      "execution_count": 6,
      "outputs": []
    },
    {
      "cell_type": "code",
      "source": [
        "uniform_cost_search(S,'G')"
      ],
      "metadata": {
        "colab": {
          "base_uri": "https://localhost:8080/"
        },
        "id": "Af-x-Y0kJuzC",
        "outputId": "02250fad-6892-44f7-d8ad-1064262e3724"
      },
      "execution_count": null,
      "outputs": [
        {
          "output_type": "execute_result",
          "data": {
            "text/plain": [
              "[S->[1->A, 12->G], A->[3->B, 1->C], C->[1->D, 2->G], G->[]]"
            ]
          },
          "metadata": {},
          "execution_count": 45
        }
      ]
    },
    {
      "cell_type": "markdown",
      "source": [
        "#A* Algorithm"
      ],
      "metadata": {
        "id": "1sAJEeSEMW04"
      }
    },
    {
      "cell_type": "markdown",
      "source": [
        "\n",
        "-- Step 1: place the starting node in the open list\n",
        "\n",
        "-- Step 2: Check if the OPEN LIST is empty or not,\n",
        "if the list is empty then return failure and stops.\n",
        "\n",
        "-- Step 3: Select the node from the OPEN LIST \n",
        "which has the smallest value of evaluation function, f(n) = g(n)+h(n), if node n is goal node then return success and stop, otherwise\n",
        "\n",
        "\n",
        "-- Step 4: Expand node n and generate all of its successors, and put n into the closed list. For each successsor 'n', check whether 'n' is already in the OPEN or CLOSED LIST , if not then compute evaluation function for 'n' and place into OPEN LIST.\n",
        "\n",
        "-- Step 5: Else if 'n' is already in OPEN or CLOSED LIST, then it should be attached to the back pointer which reflects the lowest g(n) value.\n",
        "\n",
        "\n",
        "-- Step 6: Return to step 2"
      ],
      "metadata": {
        "id": "HSHki-DnMCEY"
      }
    },
    {
      "cell_type": "markdown",
      "source": [
        "CLOSE LIST is already explored, and OPEN LIST is which will be explored"
      ],
      "metadata": {
        "id": "A2fgj9EyQY3-"
      }
    },
    {
      "cell_type": "code",
      "source": [
        "from collections import deque\n",
        "\n",
        "class Graph:\n",
        "  def __init__(self, adjac_list):\n",
        "    self.adjac_list = adjac_list \n",
        "  \n",
        "  def get_neighbors(self, v):\n",
        "    return self.adjac_list[v]\n",
        "  \n",
        "  #this is heuristic function which is having equal values for all nodes\n",
        "\n",
        "  def h(self,n):\n",
        "    H = {\n",
        "        'A':1,\n",
        "        'B':1,\n",
        "        'C':1,\n",
        "        'D':1,\n",
        "    }\n",
        "\n",
        "    return H[n]\n",
        "\n",
        "  def a_star_algorithm(self, start, stop):\n",
        "    \"\"\"\n",
        "    open_list: In this method open_list is a list of nodes which have been visited, but who's \n",
        "    neighbours haven't all been always inspected, It starts off with the start node\n",
        "    closed_list: It is a list of nodes which have been visited and who's neighbours have always inspected\n",
        "    \"\"\"\n",
        "\n",
        "    open_list = set([start])\n",
        "    closed_list = set([])\n",
        "\n",
        "    #dist have present distance form start to all other nodes\n",
        "    #the default value is + infinity\n",
        "    dist = {}\n",
        "    dist[start] = 0 \n",
        "\n",
        "    # part contains an adjacent mapping of all nodes\n",
        "    par = {}\n",
        "    par[start] = start\n",
        "\n",
        "    while len(open_list) > 0:\n",
        "      n = None\n",
        "\n",
        "      # it will find a node with the lowest value of f()\n",
        "      for v in open_list:\n",
        "        if n == None or dist[v] + self.h(v) <dist[v] + self.h(n):\n",
        "          n = v\n",
        "        \n",
        "    if n == None:\n",
        "      print(\"Path does not exist!\")\n",
        "      return None\n",
        "\n",
        "    # if the current node is the stop then we start again from start\n",
        "    if n == stop:\n",
        "      reconst_path = []\n",
        "      while par[n]!= n:\n",
        "        reconst_path.append(n)\n",
        "        n = par[n]\n",
        "      \n",
        "      reconst_path.append(start)\n",
        "      reconst_path.reverse()\n",
        "\n",
        "      print(\"path found {}\".format(reconst_path))\n",
        "      return reconst_path\n",
        "\n",
        "    # for all the neighbors of the current node\n",
        "    for (m, weight) in self.get_neighbors(n):\n",
        "      # if the current node is not present in both open_list and closed_list\n",
        "      # add it to open_list and node n as it parent\n",
        "      if m not in open_list and m not in closed_list:\n",
        "        open_list.add(m)\n",
        "        par[m]=n\n",
        "        dist[m] = dist[n] + weight\n",
        "\n",
        "      #otherwise, check if its quicker to first visit n, then m\n",
        "      # and if it is, update parent data and distant data\n",
        "      #and if the node was int the closed_list, move it to open_list\n",
        "      else:\n",
        "        if dist[m]>dist[n]+weight:\n",
        "          dist[m]= dist[n]+weight\n",
        "          par[m] = n\n",
        "          if m in closed_list:\n",
        "            closed_list.remove(m)\n",
        "            open_list.add(m)\n",
        "          \n",
        "      \n",
        "      open_list.remove(n)\n",
        "      closed_list.remove(n)\n",
        "    print(\"path does not exist\")\n",
        "    return None\n"
      ],
      "metadata": {
        "id": "e4O0HdQpJyjp"
      },
      "execution_count": 7,
      "outputs": []
    },
    {
      "cell_type": "markdown",
      "source": [
        "#Heuristic"
      ],
      "metadata": {
        "id": "gEc5giyqlv_n"
      }
    },
    {
      "cell_type": "code",
      "source": [
        "from collections import deque\n",
        "\n",
        "class Graph:\n",
        "  def __init__(self, adjacency_list):\n",
        "      self.adjacency_list = adjacency_list\n",
        "\n",
        "  def get_neighbors(self, v):\n",
        "      return self.adjacency_list[v]\n",
        "  def h(self, n):\n",
        "\n",
        "    H = {\n",
        "        'S': 4,\n",
        "        'A': 2,\n",
        "        'B': 6,\n",
        "        'C': 2,\n",
        "        'D': 3,\n",
        "        'G': 0\n",
        "    }\n",
        "\n",
        "    return H[n]\n",
        "\n",
        "  def h2(self, n):\n",
        "      H = {\n",
        "          'S': 3,\n",
        "          'A': 2,\n",
        "          'B': 5,\n",
        "          'C': 1,\n",
        "          'D': 2,\n",
        "          'G': 0\n",
        "      }\n",
        "      return H[n]\n",
        "\n",
        "  def a_star_algorithm(self, start_node, stop_node):\n",
        "\n",
        "      open_list = set([start_node])\n",
        "      closed_list = set([])\n",
        "\n",
        "      g = {}\n",
        "\n",
        "      g[start_node] = 0\n",
        "\n",
        "      parents = {}\n",
        "      parents[start_node] = start_node\n",
        "\n",
        "      while len(open_list) > 0:\n",
        "          n = None\n",
        "\n",
        " \n",
        "\n",
        "          for v in open_list:\n",
        "              if n == None or g[v] + self.h(v) < g[n] + self.h(n):\n",
        "                  \n",
        "                  n = v;\n",
        "\n",
        " \n",
        "\n",
        "          if n == None:\n",
        "              print('Path does not exist!')\n",
        "              return None\n",
        "\n",
        "          if n == stop_node:\n",
        "              reconst_path = []\n",
        "\n",
        "              while parents[n] != n:\n",
        "                  reconst_path.append(n)\n",
        "                  n = parents[n]\n",
        "\n",
        "              reconst_path.append(start_node)\n",
        "\n",
        "              reconst_path.reverse()\n",
        "\n",
        "              print('Path found: {}'.format(reconst_path))\n",
        "              return reconst_path\n",
        "\n",
        " \n",
        "\n",
        " \n",
        "\n",
        "          for (m, weight) in self.get_neighbors(n):\n",
        "              if m not in open_list and m not in closed_list:\n",
        "                  open_list.add(m)\n",
        "                  parents[m] = n\n",
        "                  g[m] = g[n] + weight\n",
        "              else:\n",
        "                  if g[m] > g[n] + weight:\n",
        "                      g[m] = g[n] + weight\n",
        "                      parents[m] = n\n",
        "\n",
        "                      if m in closed_list:\n",
        "                          closed_list.remove(m)\n",
        "                          open_list.add(m)\n",
        "\n",
        "          open_list.remove(n)\n",
        "          closed_list.add(n)\n",
        "\n",
        "        \n",
        "\n",
        "      print('Path does not exist!')\n",
        "      return None\n",
        "       \n",
        "if __name__ == '__main__':\n",
        "         adjacency_list = {\n",
        "      'S': [('A', 1),('G', 12)],\n",
        "      'A': [('C', 1),('B', 3)],\n",
        "      'B': [('D', 3)],\n",
        "      'C': [('D', 1),('G', 2)],     \n",
        "      'D': [('G', 3)],\n",
        "}\n",
        "graph1 = Graph(adjacency_list)\n",
        "graph1.a_star_algorithm('S', 'G')"
      ],
      "metadata": {
        "id": "Hx21d570TaWn",
        "colab": {
          "base_uri": "https://localhost:8080/"
        },
        "outputId": "16f94511-49f6-423f-eeea-472e0cde973c"
      },
      "execution_count": 9,
      "outputs": [
        {
          "output_type": "stream",
          "name": "stdout",
          "text": [
            "Path found: ['S', 'A', 'C', 'G']\n"
          ]
        },
        {
          "output_type": "execute_result",
          "data": {
            "text/plain": [
              "['S', 'A', 'C', 'G']"
            ]
          },
          "metadata": {},
          "execution_count": 9
        }
      ]
    },
    {
      "cell_type": "code",
      "source": [
        "from queue import PriorityQueue\n",
        "v = 14\n",
        "graph = [[] for i in range(v)]\n",
        "\n",
        "# Function For Implementing Best First Search\n",
        "# Gives output path having lowest cost\n",
        "\n",
        "\n",
        "def best_first_search(actual_Src, target, n):\n",
        "\tvisited = [False] * n\n",
        "\tpq = PriorityQueue()\n",
        "\tpq.put((0, actual_Src))\n",
        "\tvisited[actual_Src] = True\n",
        "\t\n",
        "\twhile pq.empty() == False:\n",
        "\t\tu = pq.get()[1]\n",
        "\t\t# Displaying the path having lowest cost\n",
        "\t\tprint(u, end=\" \")\n",
        "\t\tif u == target:\n",
        "\t\t\tbreak\n",
        "\n",
        "\t\tfor v, c in graph[u]:\n",
        "\t\t\tif visited[v] == False:\n",
        "\t\t\t\tvisited[v] = True\n",
        "\t\t\t\tpq.put((c, v))\n",
        "\tprint()\n",
        "\n",
        "# Function for adding edges to graph\n",
        "\n",
        "\n",
        "def addedge(x, y, cost):\n",
        "\tgraph[x].append((y, cost))\n",
        "\tgraph[y].append((x, cost))\n",
        "\n",
        "\n",
        "# The nodes shown in above example(by alphabets) are\n",
        "# implemented using integers addedge(x,y,cost);\n",
        "addedge(0, 1, 3)\n",
        "addedge(0, 2, 6)\n",
        "addedge(0, 3, 5)\n",
        "addedge(1, 4, 9)\n",
        "addedge(1, 5, 8)\n",
        "addedge(2, 6, 12)\n",
        "addedge(2, 7, 14)\n",
        "addedge(3, 8, 7)\n",
        "addedge(8, 9, 5)\n",
        "addedge(8, 10, 6)\n",
        "addedge(9, 11, 1)\n",
        "addedge(9, 12, 10)\n",
        "addedge(9, 13, 2)\n",
        "\n",
        "source = 0\n",
        "target = 9\n",
        "best_first_search(source, target, v)\n",
        "\n",
        "# This code is contributed by Jyotheeswar Ganne\n"
      ],
      "metadata": {
        "colab": {
          "base_uri": "https://localhost:8080/"
        },
        "id": "_a8TFTlfp8MB",
        "outputId": "74c1d1cf-c84a-4a84-bc9d-9870e02721bc"
      },
      "execution_count": 10,
      "outputs": [
        {
          "output_type": "stream",
          "name": "stdout",
          "text": [
            "0 1 3 2 8 9 \n"
          ]
        }
      ]
    }
  ]
}